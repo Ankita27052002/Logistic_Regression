{
  "nbformat": 4,
  "nbformat_minor": 0,
  "metadata": {
    "colab": {
      "provenance": []
    },
    "kernelspec": {
      "name": "python3",
      "display_name": "Python 3"
    },
    "language_info": {
      "name": "python"
    }
  },
  "cells": [
    {
      "cell_type": "markdown",
      "source": [
        "# Name : Ankita Mandal\n",
        "# Course : B-Tech, Branch : CSE Hons.(AI & ML)\n",
        "# Q-Id : 20030010\n",
        "## University Roll No. : 2001313007"
      ],
      "metadata": {
        "id": "-OW1uaoI7iIu"
      }
    },
    {
      "cell_type": "markdown",
      "source": [
        "# *Logistic Regression Using Tensorflow*"
      ],
      "metadata": {
        "id": "ffxiCrJS8IAp"
      }
    },
    {
      "cell_type": "markdown",
      "source": [
        "### Step 1: Read Data"
      ],
      "metadata": {
        "id": "ksfyTY8H8SE5"
      }
    },
    {
      "cell_type": "code",
      "source": [
        "%matplotlib inline"
      ],
      "metadata": {
        "id": "yGUPHzxv7_GU"
      },
      "execution_count": null,
      "outputs": []
    },
    {
      "cell_type": "code",
      "source": [
        "import numpy as np # linear algebra\n",
        "import seaborn as sns\n",
        "sns.set(style='whitegrid')\n",
        "import pandas as pd # data processing, CSV file I/O (e.g. pd.read_csv)\n",
        "import matplotlib.pyplot as plt\n",
        "import tensorflow.compat.v1 as tf\n",
        "tf.disable_v2_behavior()"
      ],
      "metadata": {
        "colab": {
          "base_uri": "https://localhost:8080/"
        },
        "id": "Q1xElKn-8bzF",
        "outputId": "68354184-13c3-45d8-cac9-7be713101fd5"
      },
      "execution_count": null,
      "outputs": [
        {
          "output_type": "stream",
          "name": "stderr",
          "text": [
            "WARNING:tensorflow:From /usr/local/lib/python3.7/dist-packages/tensorflow/python/compat/v2_compat.py:107: disable_resource_variables (from tensorflow.python.ops.variable_scope) is deprecated and will be removed in a future version.\n",
            "Instructions for updating:\n",
            "non-resource variables are not supported in the long term\n"
          ]
        }
      ]
    },
    {
      "cell_type": "code",
      "source": [
        "print(tf.__version__)"
      ],
      "metadata": {
        "colab": {
          "base_uri": "https://localhost:8080/"
        },
        "id": "BEq8ZnF38dzZ",
        "outputId": "1ac278f6-b88b-443e-d117-7fbf951fa79b"
      },
      "execution_count": null,
      "outputs": [
        {
          "output_type": "stream",
          "name": "stdout",
          "text": [
            "2.9.2\n"
          ]
        }
      ]
    },
    {
      "cell_type": "code",
      "source": [
        "iris = pd.read_csv('Iris.csv')"
      ],
      "metadata": {
        "id": "9KppY8W38h47"
      },
      "execution_count": null,
      "outputs": []
    },
    {
      "cell_type": "code",
      "source": [
        "iris.shape"
      ],
      "metadata": {
        "colab": {
          "base_uri": "https://localhost:8080/"
        },
        "id": "0G6DgcTm8kFK",
        "outputId": "d2d1d6ba-ce30-45a8-a477-40daf6217a22"
      },
      "execution_count": null,
      "outputs": [
        {
          "output_type": "execute_result",
          "data": {
            "text/plain": [
              "(150, 6)"
            ]
          },
          "metadata": {},
          "execution_count": 5
        }
      ]
    },
    {
      "cell_type": "code",
      "source": [
        "iris.head()"
      ],
      "metadata": {
        "colab": {
          "base_uri": "https://localhost:8080/",
          "height": 206
        },
        "id": "bjUnPMyK8l1X",
        "outputId": "0843069d-b0ea-40e5-932a-68bee5d6d160"
      },
      "execution_count": null,
      "outputs": [
        {
          "output_type": "execute_result",
          "data": {
            "text/plain": [
              "   Id  SepalLengthCm  SepalWidthCm  PetalLengthCm  PetalWidthCm      Species\n",
              "0   1            5.1           3.5            1.4           0.2  Iris-setosa\n",
              "1   2            4.9           3.0            1.4           0.2  Iris-setosa\n",
              "2   3            4.7           3.2            1.3           0.2  Iris-setosa\n",
              "3   4            4.6           3.1            1.5           0.2  Iris-setosa\n",
              "4   5            5.0           3.6            1.4           0.2  Iris-setosa"
            ],
            "text/html": [
              "\n",
              "  <div id=\"df-eb681bfe-d977-4532-b5fe-ff424cd27aac\">\n",
              "    <div class=\"colab-df-container\">\n",
              "      <div>\n",
              "<style scoped>\n",
              "    .dataframe tbody tr th:only-of-type {\n",
              "        vertical-align: middle;\n",
              "    }\n",
              "\n",
              "    .dataframe tbody tr th {\n",
              "        vertical-align: top;\n",
              "    }\n",
              "\n",
              "    .dataframe thead th {\n",
              "        text-align: right;\n",
              "    }\n",
              "</style>\n",
              "<table border=\"1\" class=\"dataframe\">\n",
              "  <thead>\n",
              "    <tr style=\"text-align: right;\">\n",
              "      <th></th>\n",
              "      <th>Id</th>\n",
              "      <th>SepalLengthCm</th>\n",
              "      <th>SepalWidthCm</th>\n",
              "      <th>PetalLengthCm</th>\n",
              "      <th>PetalWidthCm</th>\n",
              "      <th>Species</th>\n",
              "    </tr>\n",
              "  </thead>\n",
              "  <tbody>\n",
              "    <tr>\n",
              "      <th>0</th>\n",
              "      <td>1</td>\n",
              "      <td>5.1</td>\n",
              "      <td>3.5</td>\n",
              "      <td>1.4</td>\n",
              "      <td>0.2</td>\n",
              "      <td>Iris-setosa</td>\n",
              "    </tr>\n",
              "    <tr>\n",
              "      <th>1</th>\n",
              "      <td>2</td>\n",
              "      <td>4.9</td>\n",
              "      <td>3.0</td>\n",
              "      <td>1.4</td>\n",
              "      <td>0.2</td>\n",
              "      <td>Iris-setosa</td>\n",
              "    </tr>\n",
              "    <tr>\n",
              "      <th>2</th>\n",
              "      <td>3</td>\n",
              "      <td>4.7</td>\n",
              "      <td>3.2</td>\n",
              "      <td>1.3</td>\n",
              "      <td>0.2</td>\n",
              "      <td>Iris-setosa</td>\n",
              "    </tr>\n",
              "    <tr>\n",
              "      <th>3</th>\n",
              "      <td>4</td>\n",
              "      <td>4.6</td>\n",
              "      <td>3.1</td>\n",
              "      <td>1.5</td>\n",
              "      <td>0.2</td>\n",
              "      <td>Iris-setosa</td>\n",
              "    </tr>\n",
              "    <tr>\n",
              "      <th>4</th>\n",
              "      <td>5</td>\n",
              "      <td>5.0</td>\n",
              "      <td>3.6</td>\n",
              "      <td>1.4</td>\n",
              "      <td>0.2</td>\n",
              "      <td>Iris-setosa</td>\n",
              "    </tr>\n",
              "  </tbody>\n",
              "</table>\n",
              "</div>\n",
              "      <button class=\"colab-df-convert\" onclick=\"convertToInteractive('df-eb681bfe-d977-4532-b5fe-ff424cd27aac')\"\n",
              "              title=\"Convert this dataframe to an interactive table.\"\n",
              "              style=\"display:none;\">\n",
              "        \n",
              "  <svg xmlns=\"http://www.w3.org/2000/svg\" height=\"24px\"viewBox=\"0 0 24 24\"\n",
              "       width=\"24px\">\n",
              "    <path d=\"M0 0h24v24H0V0z\" fill=\"none\"/>\n",
              "    <path d=\"M18.56 5.44l.94 2.06.94-2.06 2.06-.94-2.06-.94-.94-2.06-.94 2.06-2.06.94zm-11 1L8.5 8.5l.94-2.06 2.06-.94-2.06-.94L8.5 2.5l-.94 2.06-2.06.94zm10 10l.94 2.06.94-2.06 2.06-.94-2.06-.94-.94-2.06-.94 2.06-2.06.94z\"/><path d=\"M17.41 7.96l-1.37-1.37c-.4-.4-.92-.59-1.43-.59-.52 0-1.04.2-1.43.59L10.3 9.45l-7.72 7.72c-.78.78-.78 2.05 0 2.83L4 21.41c.39.39.9.59 1.41.59.51 0 1.02-.2 1.41-.59l7.78-7.78 2.81-2.81c.8-.78.8-2.07 0-2.86zM5.41 20L4 18.59l7.72-7.72 1.47 1.35L5.41 20z\"/>\n",
              "  </svg>\n",
              "      </button>\n",
              "      \n",
              "  <style>\n",
              "    .colab-df-container {\n",
              "      display:flex;\n",
              "      flex-wrap:wrap;\n",
              "      gap: 12px;\n",
              "    }\n",
              "\n",
              "    .colab-df-convert {\n",
              "      background-color: #E8F0FE;\n",
              "      border: none;\n",
              "      border-radius: 50%;\n",
              "      cursor: pointer;\n",
              "      display: none;\n",
              "      fill: #1967D2;\n",
              "      height: 32px;\n",
              "      padding: 0 0 0 0;\n",
              "      width: 32px;\n",
              "    }\n",
              "\n",
              "    .colab-df-convert:hover {\n",
              "      background-color: #E2EBFA;\n",
              "      box-shadow: 0px 1px 2px rgba(60, 64, 67, 0.3), 0px 1px 3px 1px rgba(60, 64, 67, 0.15);\n",
              "      fill: #174EA6;\n",
              "    }\n",
              "\n",
              "    [theme=dark] .colab-df-convert {\n",
              "      background-color: #3B4455;\n",
              "      fill: #D2E3FC;\n",
              "    }\n",
              "\n",
              "    [theme=dark] .colab-df-convert:hover {\n",
              "      background-color: #434B5C;\n",
              "      box-shadow: 0px 1px 3px 1px rgba(0, 0, 0, 0.15);\n",
              "      filter: drop-shadow(0px 1px 2px rgba(0, 0, 0, 0.3));\n",
              "      fill: #FFFFFF;\n",
              "    }\n",
              "  </style>\n",
              "\n",
              "      <script>\n",
              "        const buttonEl =\n",
              "          document.querySelector('#df-eb681bfe-d977-4532-b5fe-ff424cd27aac button.colab-df-convert');\n",
              "        buttonEl.style.display =\n",
              "          google.colab.kernel.accessAllowed ? 'block' : 'none';\n",
              "\n",
              "        async function convertToInteractive(key) {\n",
              "          const element = document.querySelector('#df-eb681bfe-d977-4532-b5fe-ff424cd27aac');\n",
              "          const dataTable =\n",
              "            await google.colab.kernel.invokeFunction('convertToInteractive',\n",
              "                                                     [key], {});\n",
              "          if (!dataTable) return;\n",
              "\n",
              "          const docLinkHtml = 'Like what you see? Visit the ' +\n",
              "            '<a target=\"_blank\" href=https://colab.research.google.com/notebooks/data_table.ipynb>data table notebook</a>'\n",
              "            + ' to learn more about interactive tables.';\n",
              "          element.innerHTML = '';\n",
              "          dataTable['output_type'] = 'display_data';\n",
              "          await google.colab.output.renderOutput(dataTable, element);\n",
              "          const docLink = document.createElement('div');\n",
              "          docLink.innerHTML = docLinkHtml;\n",
              "          element.appendChild(docLink);\n",
              "        }\n",
              "      </script>\n",
              "    </div>\n",
              "  </div>\n",
              "  "
            ]
          },
          "metadata": {},
          "execution_count": 6
        }
      ]
    },
    {
      "cell_type": "code",
      "source": [
        "iris = iris[:100]"
      ],
      "metadata": {
        "id": "tXx-Wevq8nn3"
      },
      "execution_count": null,
      "outputs": []
    },
    {
      "cell_type": "code",
      "source": [
        "iris.shape"
      ],
      "metadata": {
        "colab": {
          "base_uri": "https://localhost:8080/"
        },
        "id": "irIN9iAI8pvV",
        "outputId": "a46a3aba-8f12-441e-db8c-00a9a59e6355"
      },
      "execution_count": null,
      "outputs": [
        {
          "output_type": "execute_result",
          "data": {
            "text/plain": [
              "(100, 6)"
            ]
          },
          "metadata": {},
          "execution_count": 8
        }
      ]
    },
    {
      "cell_type": "markdown",
      "source": [
        "# Step 2: Numerical procwssing\n",
        "\n",
        "Replace 'Iris-setosa' as 0 <br>\n",
        "Replace 'Iris-versicolor' as 1"
      ],
      "metadata": {
        "id": "8XHQ77ci8tS_"
      }
    },
    {
      "cell_type": "code",
      "source": [
        "iris.Species = iris.Species.replace(to_replace=['Iris-setosa', 'Iris-versicolor'], value=[0, 1])"
      ],
      "metadata": {
        "id": "iH3E-Dsk9I9y"
      },
      "execution_count": null,
      "outputs": []
    },
    {
      "cell_type": "code",
      "source": [
        "plt.scatter(iris[:50].SepalLengthCm, iris[:50].SepalWidthCm, label='Iris-setosa')\n",
        "plt.scatter(iris[51:].SepalLengthCm, iris[51:].SepalWidthCm, label='Iris-versicolo')\n",
        "plt.xlabel('SepalLength')\n",
        "plt.ylabel('SepalWidth')\n",
        "plt.legend(loc='best')"
      ],
      "metadata": {
        "colab": {
          "base_uri": "https://localhost:8080/",
          "height": 304
        },
        "id": "K73PQjjR9N0C",
        "outputId": "56bdc4e3-bf73-4024-998d-65893e7cf237"
      },
      "execution_count": null,
      "outputs": [
        {
          "output_type": "execute_result",
          "data": {
            "text/plain": [
              "<matplotlib.legend.Legend at 0x7f35c66fae50>"
            ]
          },
          "metadata": {},
          "execution_count": 11
        },
        {
          "output_type": "display_data",
          "data": {
            "text/plain": [
              "<Figure size 432x288 with 1 Axes>"
            ],
            "image/png": "[encoded data removed]"
          },
          "metadata": {}
        }
      ]
    },
    {
      "cell_type": "code",
      "source": [
        "X = iris.drop(labels=['Id', 'Species'], axis=1).values\n",
        "y = iris.Species.values"
      ],
      "metadata": {
        "id": "JbF1ubyQ9Q8x"
      },
      "execution_count": null,
      "outputs": []
    },
    {
      "cell_type": "markdown",
      "source": [
        "# Step 3: Split data\n",
        "trainset: 80%<br>\n",
        "testset: 20%"
      ],
      "metadata": {
        "id": "fBZ9k8lf9X8H"
      }
    },
    {
      "cell_type": "code",
      "source": [
        "train_index = np.random.choice(len(X), round(len(X) * 0.8), replace=False)"
      ],
      "metadata": {
        "id": "ZR6fou3w9UUn"
      },
      "execution_count": null,
      "outputs": []
    },
    {
      "cell_type": "code",
      "source": [
        "# diff set\n",
        "test_index = np.array(list(set(range(len(X))) - set(train_index)))\n",
        "train_X = X[train_index]\n",
        "train_y = y[train_index]\n",
        "test_X = X[test_index]\n",
        "test_y = y[test_index]"
      ],
      "metadata": {
        "id": "xEyxVmUx9xMt"
      },
      "execution_count": null,
      "outputs": []
    },
    {
      "cell_type": "code",
      "source": [
        "# Define the normalized function\n",
        "def min_max_normalized(data):\n",
        "    col_max = np.max(data, axis=0)\n",
        "    col_min = np.min(data, axis=0)\n",
        "    return np.divide(data - col_min, col_max - col_min)"
      ],
      "metadata": {
        "id": "KV5OUEnk9zpL"
      },
      "execution_count": null,
      "outputs": []
    },
    {
      "cell_type": "markdown",
      "source": [
        "## Step 4: Normalized processing"
      ],
      "metadata": {
        "id": "morwe64g95O0"
      }
    },
    {
      "cell_type": "code",
      "source": [
        "# Normalized processing, must be placed after the data set segmentation,\n",
        "# otherwise the test set will be affected by the training set\n",
        "train_X = min_max_normalized(train_X)\n",
        "test_X = min_max_normalized(test_X)"
      ],
      "metadata": {
        "id": "x6mE8yIo92B3"
      },
      "execution_count": null,
      "outputs": []
    },
    {
      "cell_type": "markdown",
      "source": [
        "## Step 5: Build the model framework"
      ],
      "metadata": {
        "id": "ELinU7Qk-SIh"
      }
    },
    {
      "cell_type": "code",
      "source": [
        "# Begin building the model framework\n",
        "# Declare the variables that need to be learned and initialization\n",
        "# There are 4 features here, A's dimension is (4, 1)\n",
        "A = tf.Variable(tf.random.normal(shape=[4, 1]))\n",
        "b = tf.Variable(tf.random.normal(shape=[1, 1]))\n",
        "init = tf.compat.v1.global_variables_initializer()\n",
        "sess = tf.compat.v1.Session()\n",
        "sess.run(init)"
      ],
      "metadata": {
        "id": "FRL1DqZg-QqB"
      },
      "execution_count": null,
      "outputs": []
    },
    {
      "cell_type": "code",
      "source": [
        "# Define placeholders\n",
        "data = tf.compat.v1.placeholder(dtype=tf.float32, shape=[None, 4])\n",
        "target = tf.compat.v1.placeholder(dtype=tf.float32, shape=[None, 1])"
      ],
      "metadata": {
        "id": "NjFPIRlN-Z9o"
      },
      "execution_count": null,
      "outputs": []
    },
    {
      "cell_type": "code",
      "source": [
        "# Declare the model you need to learn\n",
        "mod = tf.matmul(data, A) + b\n"
      ],
      "metadata": {
        "id": "XyMONvtc-csH"
      },
      "execution_count": null,
      "outputs": []
    },
    {
      "cell_type": "code",
      "source": [
        "# Declare loss function\n",
        "# Use the sigmoid cross-entropy loss function,\n",
        "# first doing a sigmoid on the model result and then using the cross-entropy loss function\n",
        "loss = tf.reduce_mean(tf.nn.sigmoid_cross_entropy_with_logits(logits=mod, labels=target))\n"
      ],
      "metadata": {
        "id": "7Ox0SoX8-esT"
      },
      "execution_count": null,
      "outputs": []
    },
    {
      "cell_type": "code",
      "source": [
        "# Define the learning rate， batch_size etc.\n",
        "learning_rate = 0.003\n",
        "batch_size = 30\n",
        "iter_num = 1500"
      ],
      "metadata": {
        "id": "wfvXD-Bo-grd"
      },
      "execution_count": null,
      "outputs": []
    },
    {
      "cell_type": "code",
      "source": [
        "# Define the optimizer\n",
        "opt = tf.train.GradientDescentOptimizer(learning_rate)\n"
      ],
      "metadata": {
        "id": "aSfsl62I-izt"
      },
      "execution_count": null,
      "outputs": []
    },
    {
      "cell_type": "code",
      "source": [
        "# Define the goal\n",
        "goal = opt.minimize(loss)\n"
      ],
      "metadata": {
        "id": "9xAF806l-lA6"
      },
      "execution_count": null,
      "outputs": []
    },
    {
      "cell_type": "code",
      "source": [
        "# Define the accuracy\n",
        "# The default threshold is 0.5, rounded off directly\n",
        "prediction = tf.round(tf.sigmoid(mod))\n",
        "# Bool into float32 type\n",
        "correct = tf.cast(tf.equal(prediction, target), dtype=tf.float32)\n",
        "# Average\n",
        "accuracy = tf.reduce_mean(correct)\n",
        "# End of the definition of the model framework\n"
      ],
      "metadata": {
        "id": "DkzgRUY8-m6D"
      },
      "execution_count": null,
      "outputs": []
    },
    {
      "cell_type": "code",
      "source": [
        "# Start training model\n",
        "# Define the variable that stores the result\n",
        "loss_trace = []\n",
        "train_acc = []\n",
        "test_acc = []"
      ],
      "metadata": {
        "id": "AMWaKKdR-pBe"
      },
      "execution_count": null,
      "outputs": []
    },
    {
      "cell_type": "markdown",
      "source": [
        "## Step 6: Model training"
      ],
      "metadata": {
        "id": "gMTGdtDx-sKP"
      }
    },
    {
      "cell_type": "code",
      "source": [
        "# training model\n",
        "for epoch in range(iter_num):\n",
        "    # Generate random batch index\n",
        "    batch_index = np.random.choice(len(train_X), size=batch_size)\n",
        "    batch_train_X = train_X[batch_index]\n",
        "    batch_train_y = np.matrix(train_y[batch_index]).T\n",
        "    sess.run(goal, feed_dict={data: batch_train_X, target: batch_train_y})\n",
        "    temp_loss = sess.run(loss, feed_dict={data: batch_train_X, target: batch_train_y})\n",
        "    # convert into a matrix, and the shape of the placeholder to correspond\n",
        "    temp_train_acc = sess.run(accuracy, feed_dict={data: train_X, target: np.matrix(train_y).T})\n",
        "    temp_test_acc = sess.run(accuracy, feed_dict={data: test_X, target: np.matrix(test_y).T})\n",
        "    # recode the result\n",
        "    loss_trace.append(temp_loss)\n",
        "    train_acc.append(temp_train_acc)\n",
        "    test_acc.append(temp_test_acc)\n",
        "    # output\n",
        "    if (epoch + 1) % 300 == 0:\n",
        "        print('epoch: {:4d} loss: {:5f} train_acc: {:5f} test_acc: {:5f}'.format(epoch + 1, temp_loss, temp_train_acc, temp_test_acc))"
      ],
      "metadata": {
        "colab": {
          "base_uri": "https://localhost:8080/"
        },
        "id": "L_sC71yF-rWH",
        "outputId": "650c949a-af34-4e73-d72b-b56eb4495b14"
      },
      "execution_count": null,
      "outputs": [
        {
          "output_type": "stream",
          "name": "stdout",
          "text": [
            "epoch:  300 loss: 0.741521 train_acc: 0.287500 test_acc: 0.050000\n",
            "epoch:  600 loss: 0.683268 train_acc: 0.500000 test_acc: 0.300000\n",
            "epoch:  900 loss: 0.631161 train_acc: 0.625000 test_acc: 0.400000\n",
            "epoch: 1200 loss: 0.640751 train_acc: 0.725000 test_acc: 0.500000\n",
            "epoch: 1500 loss: 0.607362 train_acc: 0.787500 test_acc: 0.550000\n"
          ]
        }
      ]
    },
    {
      "cell_type": "markdown",
      "source": [
        "## Step 7: Visualization"
      ],
      "metadata": {
        "id": "luLIyzp0-2Wi"
      }
    },
    {
      "cell_type": "code",
      "source": [
        "# Visualization of the results\n",
        "# loss function\n",
        "plt.plot(loss_trace)\n",
        "plt.title('Cross Entropy Loss')\n",
        "plt.xlabel('epoch')\n",
        "plt.ylabel('loss')\n",
        "plt.show()"
      ],
      "metadata": {
        "colab": {
          "base_uri": "https://localhost:8080/",
          "height": 301
        },
        "id": "ntTct9gC-zt8",
        "outputId": "67c42482-7aed-423a-9d6d-9c7b1634a63a"
      },
      "execution_count": null,
      "outputs": [
        {
          "output_type": "display_data",
          "data": {
            "text/plain": [
              "<Figure size 432x288 with 1 Axes>"
            ],
            "image/png": "[encoded data removed]"
          },
          "metadata": {}
        }
      ]
    },
    {
      "cell_type": "code",
      "source": [
        "# accuracy\n",
        "plt.plot(train_acc, 'b-', label='train accuracy')\n",
        "plt.plot(test_acc, 'k-', label='test accuracy')\n",
        "plt.xlabel('epoch')\n",
        "plt.ylabel('accuracy')\n",
        "plt.title('Train and Test Accuracy')\n",
        "plt.legend(loc='best')\n",
        "plt.show()"
      ],
      "metadata": {
        "colab": {
          "base_uri": "https://localhost:8080/",
          "height": 301
        },
        "id": "X1KRyTuj-8QE",
        "outputId": "9051af03-18bf-4bba-c259-9026009fa651"
      },
      "execution_count": null,
      "outputs": [
        {
          "output_type": "display_data",
          "data": {
            "text/plain": [
              "<Figure size 432x288 with 1 Axes>"
            ],
            "image/png": "[encoded data removed]"
          },
          "metadata": {}
        }
      ]
    },
    {
      "cell_type": "code",
      "source": [],
      "metadata": {
        "id": "TJIqODIk-_Dv"
      },
      "execution_count": null,
      "outputs": []
    }
  ]
}